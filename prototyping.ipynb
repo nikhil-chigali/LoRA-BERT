{
 "cells": [
  {
   "cell_type": "code",
   "execution_count": 1,
   "metadata": {},
   "outputs": [
    {
     "name": "stderr",
     "output_type": "stream",
     "text": [
      "c:\\Users\\nikhi\\Documents\\Projects\\LoRA-Ensembling\\.venv\\Lib\\site-packages\\tqdm\\auto.py:21: TqdmWarning: IProgress not found. Please update jupyter and ipywidgets. See https://ipywidgets.readthedocs.io/en/stable/user_install.html\n",
      "  from .autonotebook import tqdm as notebook_tqdm\n"
     ]
    }
   ],
   "source": [
    "import torch\n",
    "import torch.nn as nn\n",
    "from src.config import get_lora_config\n",
    "from src.config import add_task_to_seq_lora_config, get_seq_lora_config\n",
    "from src.models import SequentialLoRAModel\n",
    "\n",
    "from transformers import AutoModelForSequenceClassification, AutoTokenizer"
   ]
  },
  {
   "cell_type": "code",
   "execution_count": 5,
   "metadata": {},
   "outputs": [
    {
     "name": "stderr",
     "output_type": "stream",
     "text": [
      "\u001b[32m2024-07-03 03:27:05.358\u001b[0m | \u001b[34m\u001b[1mDEBUG   \u001b[0m | \u001b[36msrc.models.sequential_lora_for_classification\u001b[0m:\u001b[36m__init__\u001b[0m:\u001b[36m128\u001b[0m - \u001b[34m\u001b[1mLoading model bert-base-uncased...\u001b[0m\n",
      "Some weights of BertForSequenceClassification were not initialized from the model checkpoint at bert-base-uncased and are newly initialized: ['classifier.bias', 'classifier.weight']\n",
      "You should probably TRAIN this model on a down-stream task to be able to use it for predictions and inference.\n",
      "\u001b[32m2024-07-03 03:27:07.193\u001b[0m | \u001b[34m\u001b[1mDEBUG   \u001b[0m | \u001b[36msrc.models.sequential_lora_for_classification\u001b[0m:\u001b[36m__init__\u001b[0m:\u001b[36m139\u001b[0m - \u001b[34m\u001b[1mModel loaded successfully.\u001b[0m\n",
      "\u001b[32m2024-07-03 03:27:07.193\u001b[0m | \u001b[34m\u001b[1mDEBUG   \u001b[0m | \u001b[36msrc.models.sequential_lora_for_classification\u001b[0m:\u001b[36m__init__\u001b[0m:\u001b[36m140\u001b[0m - \u001b[34m\u001b[1mInjecting LoRA layers...\u001b[0m\n",
      "\u001b[32m2024-07-03 03:27:07.195\u001b[0m | \u001b[34m\u001b[1mDEBUG   \u001b[0m | \u001b[36msrc.models.sequential_lora_for_classification\u001b[0m:\u001b[36m__init__\u001b[0m:\u001b[36m143\u001b[0m - \u001b[34m\u001b[1mAdd task to LoRA\u001b[0m\n",
      "\u001b[32m2024-07-03 03:27:07.195\u001b[0m | \u001b[34m\u001b[1mDEBUG   \u001b[0m | \u001b[36msrc.models.sequential_lora_for_classification\u001b[0m:\u001b[36madd_task\u001b[0m:\u001b[36m259\u001b[0m - \u001b[34m\u001b[1mAdding the task: sst2\u001b[0m\n",
      "\u001b[32m2024-07-03 03:27:07.199\u001b[0m | \u001b[34m\u001b[1mDEBUG   \u001b[0m | \u001b[36msrc.models.sequential_lora_for_classification\u001b[0m:\u001b[36mset_curr_task\u001b[0m:\u001b[36m286\u001b[0m - \u001b[34m\u001b[1mSetting current task - sst2 active\u001b[0m\n",
      "\u001b[32m2024-07-03 03:27:07.201\u001b[0m | \u001b[34m\u001b[1mDEBUG   \u001b[0m | \u001b[36msrc.models.sequential_lora_for_classification\u001b[0m:\u001b[36mset_curr_task\u001b[0m:\u001b[36m306\u001b[0m - \u001b[34m\u001b[1mFreezing model params...\u001b[0m\n"
     ]
    }
   ],
   "source": [
    "config = get_seq_lora_config(\"blabla\", \"qv\")\n",
    "config = add_task_to_seq_lora_config(config, \"sst2\")\n",
    "\n",
    "model = SequentialLoRAModel(config)"
   ]
  },
  {
   "cell_type": "code",
   "execution_count": 6,
   "metadata": {},
   "outputs": [
    {
     "name": "stdout",
     "output_type": "stream",
     "text": [
      "True\n"
     ]
    }
   ],
   "source": [
    "for param in model.model.bert.encoder.layer[0].attention.self.query.lora.lora_As:\n",
    "    print(param.requires_grad)"
   ]
  },
  {
   "cell_type": "code",
   "execution_count": 25,
   "metadata": {},
   "outputs": [
    {
     "name": "stderr",
     "output_type": "stream",
     "text": [
      "\u001b[32m2024-07-03 18:54:36.811\u001b[0m | \u001b[34m\u001b[1mDEBUG   \u001b[0m | \u001b[36msrc.models.sequential_lora_for_classification\u001b[0m:\u001b[36madd_task\u001b[0m:\u001b[36m259\u001b[0m - \u001b[34m\u001b[1mAdding the task: cola\u001b[0m\n"
     ]
    }
   ],
   "source": [
    "model.config = add_task_to_seq_lora_config(model.config, \"cola\")\n",
    "model.add_task(\"cola\")"
   ]
  },
  {
   "cell_type": "code",
   "execution_count": 3,
   "metadata": {},
   "outputs": [],
   "source": [
    "from src.data import get_datamodule\n",
    "\n",
    "sst2 = get_datamodule(\"sst2\")(\"bert-base-uncased\", 8, 4)\n",
    "\n",
    "sst2.prepare_data()\n",
    "sst2.setup()"
   ]
  },
  {
   "cell_type": "code",
   "execution_count": 4,
   "metadata": {},
   "outputs": [
    {
     "name": "stderr",
     "output_type": "stream",
     "text": [
      "GPU available: True (cuda), used: True\n",
      "TPU available: False, using: 0 TPU cores\n",
      "IPU available: False, using: 0 IPUs\n",
      "HPU available: False, using: 0 HPUs\n",
      "c:\\Users\\nikhi\\Documents\\Projects\\LoRA-Ensembling\\.venv\\Lib\\site-packages\\pytorch_lightning\\trainer\\connectors\\logger_connector\\logger_connector.py:75: Starting from v1.9.0, `tensorboardX` has been removed as a dependency of the `pytorch_lightning` package, due to potential conflicts with other packages in the ML ecosystem. For this reason, `logger=True` will use `CSVLogger` as the default logger, unless the `tensorboard` or `tensorboardX` packages are found. Please `pip install lightning[extra]` or one of them to enable TensorBoard support by default\n",
      "You are using a CUDA device ('NVIDIA GeForce RTX 4060 Laptop GPU') that has Tensor Cores. To properly utilize them, you should set `torch.set_float32_matmul_precision('medium' | 'high')` which will trade-off precision for performance. For more details, read https://pytorch.org/docs/stable/generated/torch.set_float32_matmul_precision.html#torch.set_float32_matmul_precision\n",
      "LOCAL_RANK: 0 - CUDA_VISIBLE_DEVICES: [0]\n",
      "\u001b[32m2024-07-02 18:30:32.069\u001b[0m | \u001b[34m\u001b[1mDEBUG   \u001b[0m | \u001b[36msrc.models.sequential_lora_for_classification\u001b[0m:\u001b[36mconfigure_optimizers\u001b[0m:\u001b[36m207\u001b[0m - \u001b[34m\u001b[1mConfiguring optimizer and lr scheduler...\u001b[0m\n",
      "\n",
      "  | Name  | Type                          | Params\n",
      "--------------------------------------------------------\n",
      "0 | model | BertForSequenceClassification | 109 M \n",
      "--------------------------------------------------------\n",
      "109 M     Trainable params\n",
      "0         Non-trainable params\n",
      "109 M     Total params\n",
      "437.935   Total estimated model params size (MB)\n"
     ]
    },
    {
     "name": "stdout",
     "output_type": "stream",
     "text": [
      "Epoch 0:  76%|███████▋  | 6423/8418 [5:27:14<1:41:38,  0.33it/s, v_num=20, train/loss=0.700, train/acc=0.500, val/loss=0.698, val/acc=0.509] "
     ]
    },
    {
     "name": "stderr",
     "output_type": "stream",
     "text": [
      "c:\\Users\\nikhi\\Documents\\Projects\\LoRA-Ensembling\\.venv\\Lib\\site-packages\\pytorch_lightning\\trainer\\call.py:54: Detected KeyboardInterrupt, attempting graceful shutdown...\n"
     ]
    }
   ],
   "source": [
    "from pytorch_lightning import Trainer\n",
    "\n",
    "trainer = Trainer(\n",
    "    max_epochs=config.training.max_epochs,\n",
    "    accelerator=config.training.accelerator,\n",
    "    precision=config.training.precision,\n",
    "    deterministic=True,\n",
    "    val_check_interval=config.training.val_check_interval,\n",
    ")\n",
    "\n",
    "trainer.fit(model, datamodule=sst2)"
   ]
  },
  {
   "cell_type": "code",
   "execution_count": 25,
   "metadata": {},
   "outputs": [
    {
     "data": {
      "text/plain": [
       "{'labels': tensor([1, 0, 1, 1, 0, 1, 1, 1]), 'input_ids': tensor([[  101,  2003, 19957,  2864,  2011,  1037, 18109,  1997, 19910,   102,\n",
       "             0,     0,     0,     0,     0,     0,     0,     0,     0,     0,\n",
       "             0,     0,     0,     0,     0,     0,     0,     0,     0,     0,\n",
       "             0,     0,     0,     0],\n",
       "        [  101,  2130,  2295,  1996,  2143,  2515,  1050,  1005,  1056,  6133,\n",
       "          2000,  2718,  2035,  1997,  2049,  6017,   102,     0,     0,     0,\n",
       "             0,     0,     0,     0,     0,     0,     0,     0,     0,     0,\n",
       "             0,     0,     0,     0],\n",
       "        [  101,  7467,  1996, 17170,  6562,  2166,  2006,  1996, 21484,   102,\n",
       "             0,     0,     0,     0,     0,     0,     0,     0,     0,     0,\n",
       "             0,     0,     0,     0,     0,     0,     0,     0,     0,     0,\n",
       "             0,     0,     0,     0],\n",
       "        [  101, 16481,  2016,  2038,  1996,  4933,  2000,  3233,  4206,  2007,\n",
       "         29198,  2953,  1010,  5529,  2378,  1998,  7104,  1012,   102,     0,\n",
       "             0,     0,     0,     0,     0,     0,     0,     0,     0,     0,\n",
       "             0,     0,     0,     0],\n",
       "        [  101, 20228,  7716,  4667,  7815,  3850,   102,     0,     0,     0,\n",
       "             0,     0,     0,     0,     0,     0,     0,     0,     0,     0,\n",
       "             0,     0,     0,     0,     0,     0,     0,     0,     0,     0,\n",
       "             0,     0,     0,     0],\n",
       "        [  101,  2017,  2064,  3422,  1010, 17565,  1998,  2131,  2019, 14963,\n",
       "         12992,  2302,  3110,  2066,  2017,  1005,  2310,  3294,  6668,  2115,\n",
       "          4024,  4781,  1012,   102,     0,     0,     0,     0,     0,     0,\n",
       "             0,     0,     0,     0],\n",
       "        [  101, 24842,  3723, 15650,  1010, 15594, 20957,  1998, 23751, 15398,\n",
       "          2008, 29483,  9891,  2017,  1999,   102,     0,     0,     0,     0,\n",
       "             0,     0,     0,     0,     0,     0,     0,     0,     0,     0,\n",
       "             0,     0,     0,     0],\n",
       "        [  101,  2016,  3504,  2066,  1996,  2416,  1011,  2051,  3453,  1997,\n",
       "          1996,  3335, 12188, 19817,  7361,  2594, 12438,  1010,  2061,  1045,\n",
       "          2079,  1050,  1005,  1056,  2113,  2054,  2016,  1005,  1055,  2725,\n",
       "          1999,  2182,   102,     0]]), 'attention_mask': tensor([[1, 1, 1, 1, 1, 1, 1, 1, 1, 1, 0, 0, 0, 0, 0, 0, 0, 0, 0, 0, 0, 0, 0, 0,\n",
       "         0, 0, 0, 0, 0, 0, 0, 0, 0, 0],\n",
       "        [1, 1, 1, 1, 1, 1, 1, 1, 1, 1, 1, 1, 1, 1, 1, 1, 1, 0, 0, 0, 0, 0, 0, 0,\n",
       "         0, 0, 0, 0, 0, 0, 0, 0, 0, 0],\n",
       "        [1, 1, 1, 1, 1, 1, 1, 1, 1, 1, 0, 0, 0, 0, 0, 0, 0, 0, 0, 0, 0, 0, 0, 0,\n",
       "         0, 0, 0, 0, 0, 0, 0, 0, 0, 0],\n",
       "        [1, 1, 1, 1, 1, 1, 1, 1, 1, 1, 1, 1, 1, 1, 1, 1, 1, 1, 1, 0, 0, 0, 0, 0,\n",
       "         0, 0, 0, 0, 0, 0, 0, 0, 0, 0],\n",
       "        [1, 1, 1, 1, 1, 1, 1, 0, 0, 0, 0, 0, 0, 0, 0, 0, 0, 0, 0, 0, 0, 0, 0, 0,\n",
       "         0, 0, 0, 0, 0, 0, 0, 0, 0, 0],\n",
       "        [1, 1, 1, 1, 1, 1, 1, 1, 1, 1, 1, 1, 1, 1, 1, 1, 1, 1, 1, 1, 1, 1, 1, 1,\n",
       "         0, 0, 0, 0, 0, 0, 0, 0, 0, 0],\n",
       "        [1, 1, 1, 1, 1, 1, 1, 1, 1, 1, 1, 1, 1, 1, 1, 1, 0, 0, 0, 0, 0, 0, 0, 0,\n",
       "         0, 0, 0, 0, 0, 0, 0, 0, 0, 0],\n",
       "        [1, 1, 1, 1, 1, 1, 1, 1, 1, 1, 1, 1, 1, 1, 1, 1, 1, 1, 1, 1, 1, 1, 1, 1,\n",
       "         1, 1, 1, 1, 1, 1, 1, 1, 1, 0]])}"
      ]
     },
     "execution_count": 25,
     "metadata": {},
     "output_type": "execute_result"
    }
   ],
   "source": [
    "trainloader = sst2.train_dataloader()\n",
    "\n",
    "batch = next(iter(trainloader))\n",
    "batch"
   ]
  }
 ],
 "metadata": {
  "kernelspec": {
   "display_name": ".venv",
   "language": "python",
   "name": "python3"
  },
  "language_info": {
   "codemirror_mode": {
    "name": "ipython",
    "version": 3
   },
   "file_extension": ".py",
   "mimetype": "text/x-python",
   "name": "python",
   "nbconvert_exporter": "python",
   "pygments_lexer": "ipython3",
   "version": "3.11.4"
  }
 },
 "nbformat": 4,
 "nbformat_minor": 2
}
